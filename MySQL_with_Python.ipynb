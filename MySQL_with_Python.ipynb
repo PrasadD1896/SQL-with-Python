{
 "cells": [
  {
   "cell_type": "markdown",
   "id": "6e34fa4a",
   "metadata": {},
   "source": [
    "# Harnessing the Power of SQL with Python: A Comprehensive Guide"
   ]
  },
  {
   "cell_type": "markdown",
   "id": "37faca94",
   "metadata": {},
   "source": [
    "SQL (Structured Query Language) is a powerful language for managing and manipulating relational databases. Python, on the other hand, is a versatile programming language that offers a rich ecosystem of libraries and tools. When combined, SQL and Python become a formidable duo for working with databases, enabling developers to harness the full power of data manipulation and analysis.\n",
    "\n",
    "In this comprehensive guide, we will explore how to leverage the capabilities of SQL in Python. We will focus on using the mysql-connector-python library to interact with MySQL databases, but the concepts and techniques discussed can be applied to other database systems as well. Whether you're a beginner starting with SQL and Python or an experienced developer looking to enhance your skills, this guide will provide you with a solid foundation.\n",
    "\n",
    "Throughout the guide, we will cover essential topics such as connecting to a database, executing SQL queries, fetching and processing results, performing CRUD operations (Create, Read, Update, Delete), and applying advanced SQL techniques. Each section will include practical examples and code snippets to illustrate the concepts and demonstrate how to implement them in Python.\n",
    "\n",
    "By the end of this guide, you will have a comprehensive understanding of how to leverage the power of SQL with Python to efficiently manage, manipulate, and analyze data in databases. Whether you're building web applications, data-driven solutions, or conducting data analysis, the knowledge gained from this guide will empower you to leverage the full potential of SQL and Python in your projects.\n",
    "\n",
    "So let's dive into the world of SQL and Python, and unlock new possibilities for data-driven applications and insights!"
   ]
  },
  {
   "cell_type": "markdown",
   "id": "1cd760c7",
   "metadata": {},
   "source": [
    "## Table of Contents:\n",
    "\n",
    "#### 1. Connecting to a Database\n",
    "#### 2. Executing SQL Queries\n",
    "#### 3. Fetching Results\n",
    "#### 4. Performing CRUD Operations\n",
    "#### 5. Advanced SQL Techniques\n",
    "#### 6. Conclusion"
   ]
  },
  {
   "cell_type": "markdown",
   "id": "431df292",
   "metadata": {},
   "source": [
    "## 1. Connecting to a Database"
   ]
  },
  {
   "cell_type": "markdown",
   "id": "46ea8c21",
   "metadata": {},
   "source": [
    "One of the fundamental steps in working with databases in Python is establishing a connection. Python provides several libraries for connecting to different database management systems (DBMS) such as MySQL, PostgreSQL, SQLite, and more. In this section, we will focus on connecting to a MySQL database using the popular mysql-connector-python library.\n",
    "\n",
    "To connect to a MySQL database, follow the steps below:\n",
    "\n",
    "#### Step 1: Install the mysql-connector-python library:\n",
    "You can install the library using pip by running the following command in your command-line interface:"
   ]
  },
  {
   "cell_type": "code",
   "execution_count": null,
   "id": "f14a9725",
   "metadata": {},
   "outputs": [],
   "source": [
    "!pip install mysql-connector-python"
   ]
  },
  {
   "cell_type": "markdown",
   "id": "3373184f",
   "metadata": {},
   "source": [
    "#### Step 2: Import the library and establish a connection:"
   ]
  },
  {
   "cell_type": "markdown",
   "id": "13294203",
   "metadata": {},
   "source": [
    "To begin, import the mysql.connector module in your Python script and use the connect() function to establish a connection to the database. Here's an example:"
   ]
  },
  {
   "cell_type": "code",
   "execution_count": null,
   "id": "0bf83871",
   "metadata": {},
   "outputs": [],
   "source": [
    "import mysql.connector\n",
    "\n",
    "# Establishing a connection\n",
    "cnx = mysql.connector.connect(\n",
    "    host=\"localhost\",\n",
    "    user=\"your_username\",\n",
    "    password=\"your_password\",\n",
    "    database=\"your_database\"\n",
    ")"
   ]
  },
  {
   "cell_type": "markdown",
   "id": "62a7626d",
   "metadata": {},
   "source": [
    "In the connect() function, you need to provide the necessary parameters:\n",
    "\n",
    "> host: The host name or IP address of the MySQL server. Use \"localhost\" if the database is on your local machine.\n",
    "\n",
    "> user: The username to access the database.\n",
    "\n",
    "> password: The password associated with the username.\n",
    "\n",
    "> database: The name of the database you want to connect to.\n",
    "\n",
    "Make sure to replace \"your_username\", \"your_password\", and \"your_database\" with your actual credentials and database name."
   ]
  },
  {
   "cell_type": "markdown",
   "id": "47fbfef1",
   "metadata": {},
   "source": [
    "#### Step 3: Closing the connection:"
   ]
  },
  {
   "cell_type": "markdown",
   "id": "eedde202",
   "metadata": {},
   "source": [
    "After performing the required database operations, it is essential to close the connection to free up system resources. You can use the close() method to close the connection as shown below:"
   ]
  },
  {
   "cell_type": "code",
   "execution_count": null,
   "id": "e53c08f8",
   "metadata": {},
   "outputs": [],
   "source": [
    "# Closing the connection\n",
    "cnx.close()"
   ]
  },
  {
   "cell_type": "markdown",
   "id": "87196f45",
   "metadata": {},
   "source": [
    "It is good practice to close the connection once you are done with your database operations.\n",
    "\n",
    "Connecting to a database is the first step in working with SQL in Python. By establishing a connection, you gain access to the database and can proceed with executing queries, fetching results, and performing other operations. Remember to provide the correct host, username, password, and database name to establish a successful connection."
   ]
  },
  {
   "cell_type": "markdown",
   "id": "a2fec91b",
   "metadata": {},
   "source": [
    "## 2. Executing SQL Queries"
   ]
  },
  {
   "cell_type": "markdown",
   "id": "9de9ea9d",
   "metadata": {},
   "source": [
    "Once you have established a connection to your database in Python, you can execute SQL queries to retrieve, manipulate, or update data. In this section, we will explore how to execute SQL queries using the mysql-connector-python library for MySQL databases.\n",
    "\n",
    "To execute an SQL query in Python, follow these steps:"
   ]
  },
  {
   "cell_type": "markdown",
   "id": "7c1a3a42",
   "metadata": {},
   "source": [
    "#### Step 1: Import the necessary libraries and establish a connection:"
   ]
  },
  {
   "cell_type": "markdown",
   "id": "9ba53241",
   "metadata": {},
   "source": [
    "Before executing queries, import the mysql.connector module and establish a connection to your MySQL database, as shown in Section 1."
   ]
  },
  {
   "cell_type": "code",
   "execution_count": null,
   "id": "35bb46dd",
   "metadata": {},
   "outputs": [],
   "source": [
    "import mysql.connector\n",
    "\n",
    "# Establishing a connection\n",
    "cnx = mysql.connector.connect(\n",
    "    host=\"localhost\",\n",
    "    user=\"your_username\",\n",
    "    password=\"your_password\",\n",
    "    database=\"your_database\"\n",
    ")"
   ]
  },
  {
   "cell_type": "markdown",
   "id": "1247deeb",
   "metadata": {},
   "source": [
    "#### Step 2: Create a cursor object:"
   ]
  },
  {
   "cell_type": "markdown",
   "id": "0d52276e",
   "metadata": {},
   "source": [
    "After establishing a connection, you need to create a cursor object. The cursor allows you to execute SQL queries and fetch the results. Use the cursor() method on the connection object to create a cursor."
   ]
  },
  {
   "cell_type": "code",
   "execution_count": null,
   "id": "ba0fb7fd",
   "metadata": {},
   "outputs": [],
   "source": [
    "# Creating a cursor object\n",
    "cursor = cnx.cursor()"
   ]
  },
  {
   "cell_type": "markdown",
   "id": "6df35fad",
   "metadata": {},
   "source": [
    "#### Step 3: Execute an SQL query:"
   ]
  },
  {
   "cell_type": "code",
   "execution_count": null,
   "id": "41e0d4e0",
   "metadata": {},
   "outputs": [],
   "source": [
    "# Executing a SELECT query\n",
    "query = \"SELECT * FROM customers\"\n",
    "cursor.execute(query)"
   ]
  },
  {
   "cell_type": "markdown",
   "id": "707141d4",
   "metadata": {},
   "source": [
    "Replace \"SELECT * FROM customers\" with your desired SQL query."
   ]
  },
  {
   "cell_type": "markdown",
   "id": "9ec9f0f6",
   "metadata": {},
   "source": [
    "#### Step 4: Closing the cursor and the connection:"
   ]
  },
  {
   "cell_type": "markdown",
   "id": "55c67e0b",
   "metadata": {},
   "source": [
    "After executing the query, it is good practice to close the cursor and the connection. Use the close() method for both objects."
   ]
  },
  {
   "cell_type": "code",
   "execution_count": null,
   "id": "05b3131d",
   "metadata": {},
   "outputs": [],
   "source": [
    "# Closing the cursor and the connection\n",
    "cursor.close()\n",
    "cnx.close()"
   ]
  },
  {
   "cell_type": "markdown",
   "id": "7400e11b",
   "metadata": {},
   "source": [
    "Closing the cursor and the connection frees up system resources and ensures a clean termination.\n",
    "\n",
    "By following these steps, you can execute SQL queries in Python using the mysql-connector-python library. Remember to create a cursor object, execute the query, and close the cursor and the connection when you are finished.\n",
    "\n",
    "It's important to note that this section covers the execution of SELECT queries, but you can also execute other types of queries such as INSERT, UPDATE, DELETE, and more using the same execute() method."
   ]
  },
  {
   "cell_type": "markdown",
   "id": "c030de79",
   "metadata": {},
   "source": [
    "## 3. Fetching Results"
   ]
  },
  {
   "cell_type": "markdown",
   "id": "b77dec25",
   "metadata": {},
   "source": [
    "After executing an SQL query in Python using the mysql-connector-python library, the next step is to fetch the results returned by the query. In this section, we will explore how to fetch and process the query results.\n",
    "\n",
    "To fetch results from an executed query, follow these steps:"
   ]
  },
  {
   "cell_type": "markdown",
   "id": "58fc1ae5",
   "metadata": {},
   "source": [
    "#### Step 1: Import the necessary libraries and establish a connection:"
   ]
  },
  {
   "cell_type": "markdown",
   "id": "6d839b3f",
   "metadata": {},
   "source": [
    "Before fetching results, ensure that you have imported the mysql.connector module and established a connection to your MySQL database. Refer to Section 1 for the connection establishment code.\n",
    "\n",
    "#### Step 2: Create a cursor object and execute the query:\n",
    "\n",
    "After establishing the connection, create a cursor object using the cursor() method on the connection object. Execute the desired SQL query using the execute() method."
   ]
  },
  {
   "cell_type": "code",
   "execution_count": null,
   "id": "cfefa222",
   "metadata": {},
   "outputs": [],
   "source": [
    "# Creating a cursor object\n",
    "cursor = cnx.cursor()\n",
    "\n",
    "# Executing the SQL query\n",
    "query = \"SELECT * FROM customers\"\n",
    "cursor.execute(query)"
   ]
  },
  {
   "cell_type": "markdown",
   "id": "24593517",
   "metadata": {},
   "source": [
    "Replace \"SELECT * FROM customers\" with your specific query.\n",
    "\n",
    "#### Step 3: Fetch and process the results:\n",
    "\n",
    "Once the query is executed, you can fetch the results using various methods provided by the cursor object. The most commonly used methods are fetchone(), fetchall(), and fetchmany(). Here are examples of each method:\n",
    "\n",
    "##### fetchone(): Fetches the next row of the result set:"
   ]
  },
  {
   "cell_type": "code",
   "execution_count": null,
   "id": "efdcc0f2",
   "metadata": {},
   "outputs": [],
   "source": [
    "# Fetching a single row\n",
    "row = cursor.fetchone()\n",
    "print(row)"
   ]
  },
  {
   "cell_type": "markdown",
   "id": "d796166c",
   "metadata": {},
   "source": [
    "##### fetchall(): Fetches all rows of the result set:"
   ]
  },
  {
   "cell_type": "code",
   "execution_count": null,
   "id": "98379259",
   "metadata": {},
   "outputs": [],
   "source": [
    "# Fetching all rows\n",
    "rows = cursor.fetchall()\n",
    "for row in rows:\n",
    "    print(row)"
   ]
  },
  {
   "cell_type": "markdown",
   "id": "4c9eef68",
   "metadata": {},
   "source": [
    "##### fetchmany(size): Fetches the next size number of rows from the result set:"
   ]
  },
  {
   "cell_type": "code",
   "execution_count": null,
   "id": "3e26b671",
   "metadata": {},
   "outputs": [],
   "source": [
    "# Fetching multiple rows\n",
    "rows = cursor.fetchmany(5)  # Fetches the next 5 rows\n",
    "for row in rows:\n",
    "    print(row)"
   ]
  },
  {
   "cell_type": "markdown",
   "id": "edd4f966",
   "metadata": {},
   "source": [
    "#### Step 4: Closing the cursor and the connection.\n",
    "\n",
    "After fetching the results, it is important to close the cursor and the connection to release system resources. Use the close() method for both objects."
   ]
  },
  {
   "cell_type": "code",
   "execution_count": null,
   "id": "0cf26359",
   "metadata": {},
   "outputs": [],
   "source": [
    "# Closing the cursor and the connection\n",
    "cursor.close()\n",
    "cnx.close()"
   ]
  },
  {
   "cell_type": "markdown",
   "id": "8c90a7fa",
   "metadata": {},
   "source": [
    "Closing the cursor and the connection ensures proper termination and avoids resource leaks.\n",
    "\n",
    "By following these steps, you can execute an SQL query, fetch the results, and process them in Python. Depending on your needs, you can use fetchone(), fetchall(), or fetchmany() to retrieve the results. Remember to close the cursor and the connection when you are finished working with the results.\n",
    "\n",
    "Note: The method you choose for fetching results depends on the size of the result set and your memory requirements. If the result set is large, fetching rows incrementally using fetchone() or fetchmany() is preferable over using fetchall() to avoid excessive memory consumption."
   ]
  },
  {
   "cell_type": "markdown",
   "id": "b863d9b8",
   "metadata": {},
   "source": [
    "## 4: Performing CRUD Operations"
   ]
  },
  {
   "cell_type": "markdown",
   "id": "e47d7046",
   "metadata": {},
   "source": [
    "In this section, we will explore how to perform Create, Read, Update, and Delete (CRUD) operations on a MySQL database using Python and the mysql-connector-python library. These operations allow you to manipulate data in the database tables.\n",
    "\n",
    "Note: Before proceeding, ensure that you have imported the mysql.connector module and established a connection to your MySQL database. Refer to Section 1 for the connection establishment code.\n",
    "\n",
    "#### 1.Creating Records (INSERT operation):\n",
    "To insert data into a table, construct an INSERT query with the desired values and execute it using the cursor's execute() method. Here's an example:"
   ]
  },
  {
   "cell_type": "code",
   "execution_count": null,
   "id": "145f9a95",
   "metadata": {},
   "outputs": [],
   "source": [
    "# Creating a cursor object\n",
    "cursor = cnx.cursor()\n",
    "\n",
    "# Constructing the INSERT query\n",
    "query = \"INSERT INTO customers (name, email) VALUES (%s, %s)\"\n",
    "values = (\"John Doe\", \"john.doe@example.com\")\n",
    "\n",
    "# Executing the INSERT query with values\n",
    "cursor.execute(query, values)\n",
    "\n",
    "# Committing the changes\n",
    "cnx.commit()\n",
    "\n",
    "# Closing the cursor and the connection\n",
    "cursor.close()\n",
    "cnx.close()"
   ]
  },
  {
   "cell_type": "markdown",
   "id": "fdc80e6b",
   "metadata": {},
   "source": [
    "Replace \"customers\" with the name of your target table and provide the appropriate column names and values in the INSERT query.\n",
    "\n",
    "#### 2. Reading Records (SELECT operation):\n",
    "To retrieve data from a table, construct a SELECT query and execute it using the cursor's execute() method. Then, fetch and process the results as shown in Section 3."
   ]
  },
  {
   "cell_type": "code",
   "execution_count": null,
   "id": "4407de50",
   "metadata": {},
   "outputs": [],
   "source": [
    "# Creating a cursor object\n",
    "cursor = cnx.cursor()\n",
    "\n",
    "# Constructing the SELECT query\n",
    "query = \"SELECT * FROM customers\"\n",
    "\n",
    "# Executing the SELECT query\n",
    "cursor.execute(query)\n",
    "\n",
    "# Fetching and processing the results\n",
    "for row in cursor.fetchall():\n",
    "    print(row)\n",
    "\n",
    "# Closing the cursor and the connection\n",
    "cursor.close()\n",
    "cnx.close()"
   ]
  },
  {
   "cell_type": "markdown",
   "id": "274e408a",
   "metadata": {},
   "source": [
    "Replace \"customers\" with the name of your target table and customize the SELECT query according to your specific requirements.\n",
    "\n",
    "#### 3. Updating Records (UPDATE operation):\n",
    "To update existing records in a table, construct an UPDATE query with the desired changes and execute it using the cursor's execute() method. Remember to include a condition to identify the records to be updated."
   ]
  },
  {
   "cell_type": "code",
   "execution_count": null,
   "id": "851279fd",
   "metadata": {},
   "outputs": [],
   "source": [
    "# Creating a cursor object\n",
    "cursor = cnx.cursor()\n",
    "\n",
    "# Constructing the UPDATE query\n",
    "query = \"UPDATE customers SET email = %s WHERE id = %s\"\n",
    "values = (\"new.email@example.com\", 1)\n",
    "\n",
    "# Executing the UPDATE query with values\n",
    "cursor.execute(query, values)\n",
    "\n",
    "# Committing the changes\n",
    "cnx.commit()\n",
    "\n",
    "# Closing the cursor and the connection\n",
    "cursor.close()\n",
    "cnx.close()"
   ]
  },
  {
   "cell_type": "markdown",
   "id": "99053a5e",
   "metadata": {},
   "source": [
    "Replace \"customers\" with the name of your target table, and customize the UPDATE query and values according to your specific requirements.\n",
    "\n",
    "#### 4. Deleting Records (DELETE operation):\n",
    "To delete records from a table, construct a DELETE query with a condition to identify the records to be deleted. Execute the query using the cursor's execute() method."
   ]
  },
  {
   "cell_type": "code",
   "execution_count": null,
   "id": "523106b9",
   "metadata": {},
   "outputs": [],
   "source": [
    "# Creating a cursor object\n",
    "cursor = cnx.cursor()\n",
    "\n",
    "# Constructing the DELETE query\n",
    "query = \"DELETE FROM customers WHERE id = %s\"\n",
    "values = (1,)\n",
    "\n",
    "# Executing the DELETE query with values\n",
    "cursor.execute(query, values)\n",
    "\n",
    "# Committing the changes\n",
    "cnx.commit()\n",
    "\n",
    "# Closing the cursor and the connection\n",
    "cursor.close()\n",
    "cnx.close()"
   ]
  },
  {
   "cell_type": "markdown",
   "id": "650e8dce",
   "metadata": {},
   "source": [
    "Replace \"customers\" with the name of your target table, and customize the DELETE query and values according to your specific requirements.\n",
    "\n",
    "Remember to commit the changes using cnx.commit() after executing an INSERT, UPDATE, or DELETE query to persist the modifications in the database."
   ]
  },
  {
   "cell_type": "markdown",
   "id": "451dbff7",
   "metadata": {},
   "source": [
    "## 5: Advanced SQL Techniques"
   ]
  },
  {
   "cell_type": "markdown",
   "id": "7652e0c9",
   "metadata": {},
   "source": [
    "In this section, we will explore some advanced SQL techniques that can be applied when working with databases in Python. These techniques will help you enhance your data manipulation and retrieval capabilities.\n",
    "\n",
    "Note: Before proceeding, ensure that you have imported the mysql.connector module and established a connection to your MySQL database. Refer to Section 1 for the connection establishment code.\n",
    "\n",
    "#### 1. Filtering Records:\n",
    "To retrieve specific records from a table, you can use the WHERE clause in your SELECT queries. The WHERE clause allows you to specify conditions to filter the rows returned by the query. Here's an example:"
   ]
  },
  {
   "cell_type": "code",
   "execution_count": null,
   "id": "48b77f25",
   "metadata": {},
   "outputs": [],
   "source": [
    "# Creating a cursor object\n",
    "cursor = cnx.cursor()\n",
    "\n",
    "# Constructing the SELECT query with a WHERE clause\n",
    "query = \"SELECT * FROM customers WHERE age > 30\"\n",
    "\n",
    "# Executing the SELECT query\n",
    "cursor.execute(query)\n",
    "\n",
    "# Fetching and processing the results\n",
    "for row in cursor.fetchall():\n",
    "    print(row)\n",
    "\n",
    "# Closing the cursor and the connection\n",
    "cursor.close()\n",
    "cnx.close()"
   ]
  },
  {
   "cell_type": "markdown",
   "id": "091776cb",
   "metadata": {},
   "source": [
    "Customize the WHERE clause in the SELECT query to match your filtering criteria.\n",
    "\n",
    "#### 2. Sorting Records:\n",
    "To sort the result set based on a specific column, you can use the ORDER BY clause in your SELECT queries. The ORDER BY clause allows you to specify one or more columns and the sorting order (ASC for ascending, DESC for descending). Here's an example:"
   ]
  },
  {
   "cell_type": "code",
   "execution_count": null,
   "id": "c6b2a59e",
   "metadata": {},
   "outputs": [],
   "source": [
    "# Creating a cursor object\n",
    "cursor = cnx.cursor()\n",
    "\n",
    "# Constructing the SELECT query with an ORDER BY clause\n",
    "query = \"SELECT * FROM customers ORDER BY name ASC\"\n",
    "\n",
    "# Executing the SELECT query\n",
    "cursor.execute(query)\n",
    "\n",
    "# Fetching and processing the results\n",
    "for row in cursor.fetchall():\n",
    "    print(row)\n",
    "\n",
    "# Closing the cursor and the connection\n",
    "cursor.close()\n",
    "cnx.close()"
   ]
  },
  {
   "cell_type": "markdown",
   "id": "a33b4f57",
   "metadata": {},
   "source": [
    "Customize the ORDER BY clause in the SELECT query to specify the column(s) and the desired sorting order.\n",
    "\n",
    "#### 3. Joining Tables:\n",
    "When working with multiple tables, you can use the JOIN clause to combine records from different tables based on a related column. Joins allow you to retrieve data from multiple tables in a single query. Here's an example of an INNER JOIN:"
   ]
  },
  {
   "cell_type": "code",
   "execution_count": null,
   "id": "c1aaa80a",
   "metadata": {},
   "outputs": [],
   "source": [
    "# Creating a cursor object\n",
    "cursor = cnx.cursor()\n",
    "\n",
    "# Constructing the SELECT query with an INNER JOIN\n",
    "query = \"SELECT customers.name, orders.order_number FROM customers INNER JOIN orders ON customers.id = orders.customer_id\"\n",
    "\n",
    "# Executing the SELECT query\n",
    "cursor.execute(query)\n",
    "\n",
    "# Fetching and processing the results\n",
    "for row in cursor.fetchall():\n",
    "    print(row)\n",
    "\n",
    "# Closing the cursor and the connection\n",
    "cursor.close()\n",
    "cnx.close()"
   ]
  },
  {
   "cell_type": "markdown",
   "id": "5f3e9b67",
   "metadata": {},
   "source": [
    "Customize the JOIN condition and the selected columns in the SELECT query based on your table structure and requirements.\n",
    "\n",
    "#### 4. Aggregating Data:\n",
    "SQL provides various aggregate functions to perform calculations on a set of rows. These functions include SUM, COUNT, AVG, MAX, MIN, and more. You can use these functions to perform calculations and retrieve aggregated results. Here's an example using the COUNT function:"
   ]
  },
  {
   "cell_type": "code",
   "execution_count": null,
   "id": "d3fda1c6",
   "metadata": {},
   "outputs": [],
   "source": [
    "# Creating a cursor object\n",
    "cursor = cnx.cursor()\n",
    "\n",
    "# Constructing the SELECT query with the COUNT function\n",
    "query = \"SELECT COUNT(*) FROM customers\"\n",
    "\n",
    "# Executing the SELECT query\n",
    "cursor.execute(query)\n",
    "\n",
    "# Fetching and processing the result\n",
    "count = cursor.fetchone()[0]\n",
    "print(\"Total customers:\", count)\n",
    "\n",
    "# Closing the cursor and the connection\n",
    "cursor.close()\n",
    "cnx.close()"
   ]
  },
  {
   "cell_type": "markdown",
   "id": "55804060",
   "metadata": {},
   "source": [
    "Customize the aggregate function and the columns in the SELECT query based on the calculation you want to perform.\n",
    "\n",
    "By utilizing these advanced SQL techniques, you can refine your data retrieval, manipulation, and analysis capabilities in Python. "
   ]
  },
  {
   "cell_type": "markdown",
   "id": "332d7771",
   "metadata": {},
   "source": [
    "## 6: Conclusion"
   ]
  },
  {
   "cell_type": "markdown",
   "id": "15841875",
   "metadata": {},
   "source": [
    "In this comprehensive guide, we have explored the fundamental concepts and techniques for working with SQL in Python. We covered various aspects, including connecting to a database, executing SQL queries, fetching results, performing CRUD operations, and applying advanced SQL techniques. Let's summarize what we have learned:\n",
    "\n",
    "1. Connecting to a Database: We discussed how to establish a connection to a MySQL database using the mysql-connector-python library.\n",
    "\n",
    "\n",
    "2. Executing SQL Queries: We explored the process of executing SQL queries in Python, including creating a cursor object, executing the queries, and closing the cursor and the connection.\n",
    "\n",
    "\n",
    "3. Fetching Results: We learned how to fetch and process the results returned by SQL queries using methods like fetchone(), fetchall(), and fetchmany().\n",
    "\n",
    "\n",
    "4. Performing CRUD Operations: We covered the CRUD operations (Create, Read, Update, and Delete) and demonstrated how to insert, retrieve, update, and delete records in a MySQL database using Python.\n",
    "\n",
    "\n",
    "5. Advanced SQL Techniques: We delved into advanced SQL techniques, such as filtering records with the WHERE clause, sorting records with the ORDER BY clause, joining tables with the JOIN clause, and aggregating data with aggregate functions.\n",
    "\n",
    "\n",
    "By applying these techniques, you can effectively interact with databases, manipulate data, and perform complex operations using Python. Remember to close the cursor and the connection after executing queries to ensure a clean termination and resource release.\n",
    "\n",
    "\n",
    "SQL is a powerful language that provides extensive capabilities for managing and analyzing data in databases. Integrating SQL with Python opens up a wide range of possibilities for data-driven applications and data science projects.\n",
    "\n",
    "Keep practicing and experimenting with SQL and Python to enhance your skills and explore the full potential of working with databases."
   ]
  },
  {
   "cell_type": "markdown",
   "id": "4bdb57c7",
   "metadata": {},
   "source": [
    "##### SQL and Python are a powerful combination for data management and application development. By understanding how to connect, execute queries, fetch results, and perform CRUD operations using Python, you can leverage the full potential of SQL within your projects. As you continue to explore and practice, you will discover more advanced techniques and gain proficiency in working with databases in Python."
   ]
  },
  {
   "cell_type": "code",
   "execution_count": null,
   "id": "cc142eab",
   "metadata": {},
   "outputs": [],
   "source": []
  }
 ],
 "metadata": {
  "kernelspec": {
   "display_name": "Python 3 (ipykernel)",
   "language": "python",
   "name": "python3"
  },
  "language_info": {
   "codemirror_mode": {
    "name": "ipython",
    "version": 3
   },
   "file_extension": ".py",
   "mimetype": "text/x-python",
   "name": "python",
   "nbconvert_exporter": "python",
   "pygments_lexer": "ipython3",
   "version": "3.9.12"
  }
 },
 "nbformat": 4,
 "nbformat_minor": 5
}
